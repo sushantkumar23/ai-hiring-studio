{
 "cells": [
  {
   "cell_type": "code",
   "execution_count": 1,
   "metadata": {},
   "outputs": [],
   "source": [
    "import os\n",
    "from openai import OpenAI\n",
    "\n",
    "from models import JobDescription, Resume\n",
    "from job_description_parser import JobDescriptionParser\n",
    "from resume_parser import ResumeParser\n",
    "from similarity_score import MatchingEngine\n"
   ]
  },
  {
   "cell_type": "code",
   "execution_count": null,
   "metadata": {},
   "outputs": [],
   "source": [
    "OPENAI_API_KEY = os.getenv(\"OPENAI_API_KEY\")\n",
    "llm_client = OpenAI(api_key=OPENAI_API_KEY)"
   ]
  },
  {
   "cell_type": "code",
   "execution_count": 2,
   "metadata": {},
   "outputs": [],
   "source": [
    "job_description_parser = JobDescriptionParser(llm_client)\n",
    "resume_parser = ResumeParser(llm_client)\n",
    "matching_engine = MatchingEngine(llm_client)"
   ]
  },
  {
   "cell_type": "code",
   "execution_count": 3,
   "metadata": {},
   "outputs": [],
   "source": [
    "def calculate_match_score(job_description_text: str, resume_text: str):\n",
    "    job_description = job_description_parser.parse(job_description_text)\n",
    "    resume = resume_parser.parse(resume_text)\n",
    "    return matching_engine.match(job_description, resume)"
   ]
  },
  {
   "cell_type": "markdown",
   "metadata": {},
   "source": [
    "### Test Case 1: Perfect Match Scenario"
   ]
  },
  {
   "cell_type": "code",
   "execution_count": 4,
   "metadata": {},
   "outputs": [
    {
     "name": "stdout",
     "output_type": "stream",
     "text": [
      "The job description is as follows: {\"job_title\": \"Software Engineer\", \"location\": \"San Francisco, CA\", \"industry\": \"Technology\", \"education_degree\": \"Bachelor's in Computer Science or related field\", \"technical_skills\": [\"Python\", \"Java\", \"SQL\", \"Git\", \"Agile methodologies\"]} and the resume is as follows: {\"candidate_name\": \"Jane Doe\", \"email\": null, \"phone\": null, \"location\": \"San Francisco, CA\", \"industry\": [\"Technology\", \"Software Engineering\"], \"education_degree\": [\"Bachelor's in Computer Science\"], \"skills\": [\"Python\", \"Java\", \"SQL\", \"Git\", \"Agile methodologies\"]}\n"
     ]
    },
    {
     "data": {
      "text/plain": [
       "{'similarity_comments': \"The resume of Jane Doe matches the job description for a Software Engineer position very closely. The key attributes align well across various categories, leading to a high similarity score. Specifically:\\n- Location: Both are based in San Francisco, CA, indicating no relocation would be necessary.\\n- Industry: The job is in the Technology sector, and Jane's experience includes Technology and Software Engineering, which is a direct match.\\n- Education Degree: The required degree is a Bachelor's in Computer Science or a related field, and Jane has a Bachelor's in Computer Science, meeting the education criteria perfectly.\\n- Technical Skills: The job requires Python, Java, SQL, Git, and Agile methodologies, all of which are listed in Jane's resume, showcasing a direct match in required technical skills.\\nGiven these matches across all critical attributes, the overall similarity score is deemed very high.\",\n",
       " 'similarity_score': 98}"
      ]
     },
     "execution_count": 4,
     "metadata": {},
     "output_type": "execute_result"
    }
   ],
   "source": [
    "sample_jd_1 = \"\"\"\n",
    "Job Title: Software Engineer\n",
    "Location: San Francisco, CA\n",
    "Industry/Domain: Technology\n",
    "Education Degree: Bachelor's in Computer Science or related field\n",
    "Technical Skills: Python, Java, SQL, Git, Agile methodologies\n",
    "\"\"\"\n",
    "\n",
    "sample_resume_1 = \"\"\"\n",
    "Name: Jane Doe\n",
    "Location: San Francisco, CA\n",
    "Education: Bachelor's in Computer Science, University of California, Berkeley\n",
    "Experience: Software Engineer at TechCorp, proficient in Python, Java, SQL, Git, and experienced in Agile methodologies.\n",
    "\"\"\"\n",
    "\n",
    "calculate_match_score(sample_jd_1, sample_resume_1)"
   ]
  },
  {
   "cell_type": "markdown",
   "metadata": {},
   "source": [
    "### Test Case 2: Partial Match Scenario"
   ]
  },
  {
   "cell_type": "code",
   "execution_count": 5,
   "metadata": {},
   "outputs": [
    {
     "name": "stdout",
     "output_type": "stream",
     "text": [
      "The job description is as follows: {\"job_title\": \"Data Analyst\", \"location\": \"New York, NY\", \"industry\": \"Finance\", \"education_degree\": \"Bachelor's in Statistics or related field\", \"technical_skills\": [\"R\", \"Python\", \"SQL\", \"Excel\", \"Tableau\"]} and the resume is as follows: {\"candidate_name\": \"John Smith\", \"email\": null, \"phone\": null, \"location\": \"Boston, MA\", \"industry\": [\"Data Analysis\", \"Finance\", \"Technology\"], \"education_degree\": [\"Bachelor's in Mathematics\"], \"skills\": [\"R\", \"Python\", \"SQL\", \"Excel\", \"Tableau\"]}\n"
     ]
    },
    {
     "data": {
      "text/plain": [
       "{'similarity_comments': \"The job requires a location in New York, NY, but the candidate is based in Boston, MA, which might affect their ability to fulfill location-based requirements. However, the industry match is strong, as the candidate has experience in Finance, which is sought by the job, alongside additional exposure to Data Analysis and Technology. The education requirement almost aligns with the job's specification; while the job specifies Statistics or related field, Mathematics is closely related and should satisfy the requirement. The candidate's skills perfectly match the job's technical requirements, making them a strong candidate in terms of capabilities. Overall, the main discrepancy is the location, but in all other aspects, the candidate matches well with the job description.\",\n",
       " 'similarity_score': 85}"
      ]
     },
     "execution_count": 5,
     "metadata": {},
     "output_type": "execute_result"
    }
   ],
   "source": [
    "sample_jd_2 = \"\"\"\n",
    "Job Title: Data Analyst\n",
    "Location: New York, NY\n",
    "Industry/Domain: Finance\n",
    "Education Degree: Bachelor's in Statistics or related field\n",
    "Technical Skills: R, Python, SQL, Excel, Tableau\n",
    "\"\"\"\n",
    "\n",
    "sample_resume_2 = \"\"\"\n",
    "Name: John Smith\n",
    "Location: Boston, MA\n",
    "Education: Bachelor's in Mathematics, Boston University\n",
    "Experience: Data Analyst at FinTech Inc., proficient in R, Python, SQL, and Excel. Familiar with Tableau.\n",
    "\"\"\"\n",
    "\n",
    "calculate_match_score(sample_jd_2, sample_resume_2)"
   ]
  },
  {
   "cell_type": "markdown",
   "metadata": {},
   "source": [
    "### Test Case 3: No Match Scenario"
   ]
  },
  {
   "cell_type": "code",
   "execution_count": 6,
   "metadata": {},
   "outputs": [
    {
     "name": "stdout",
     "output_type": "stream",
     "text": [
      "The job description is as follows: {\"job_title\": \"Graphic Designer\", \"location\": \"Los Angeles, CA\", \"industry\": \"Media\", \"education_degree\": \"Bachelor's in Graphic Design or related field\", \"technical_skills\": [\"Adobe Creative Suite\", \"Sketch\", \"InVision\", \"Typography\", \"Branding\"]} and the resume is as follows: {\"candidate_name\": \"Emily Johnson\", \"email\": null, \"phone\": null, \"location\": \"Miami, FL\", \"industry\": [\"Marketing\"], \"education_degree\": [\"Bachelor's in Marketing\"], \"skills\": [\"social media campaigns\", \"content creation\", \"no graphic design experience\"]}\n"
     ]
    },
    {
     "data": {
      "text/plain": [
       "{'similarity_comments': \"The locations do not match, as the job is in Los Angeles, CA, and the candidate is based in Miami, FL. The industries are somewhat related but not the same, as the job is in the Media industry, while the candidate has experience in Marketing. The education degrees are in related fields but not the same, with the job requiring a Bachelor's in Graphic Design or related field, and the candidate having a Bachelor's in Marketing. Most importantly, the technical skills required for the job, such as Adobe Creative Suite, Sketch, InVision, Typography, and Branding, are not mentioned in the candidate's resume, which lists skills in social media campaigns, content creation, and explicitly states no graphic design experience. This results in a significant disparity in the match for the required technical skills.\",\n",
       " 'similarity_score': 20}"
      ]
     },
     "execution_count": 6,
     "metadata": {},
     "output_type": "execute_result"
    }
   ],
   "source": [
    "\n",
    "sample_jd_3 = \"\"\"\n",
    "Job Title: Graphic Designer\n",
    "Location: Los Angeles, CA\n",
    "Industry/Domain: Media\n",
    "Education Degree: Bachelor's in Graphic Design or related field\n",
    "Technical Skills: Adobe Creative Suite, Sketch, InVision, Typography, Branding\n",
    "\"\"\"\n",
    "\n",
    "sample_resume_3 = \"\"\"\n",
    "Name: Emily Johnson\n",
    "Location: Miami, FL\n",
    "Education: Bachelor's in Marketing, University of Miami\n",
    "Experience: Marketing Specialist at Creative Agency, experienced in social media campaigns and content creation. No graphic design experience.\n",
    "\"\"\"\n",
    "\n",
    "calculate_match_score(sample_jd_3, sample_resume_3)"
   ]
  },
  {
   "cell_type": "code",
   "execution_count": null,
   "metadata": {},
   "outputs": [],
   "source": []
  }
 ],
 "metadata": {
  "kernelspec": {
   "display_name": "base",
   "language": "python",
   "name": "python3"
  },
  "language_info": {
   "codemirror_mode": {
    "name": "ipython",
    "version": 3
   },
   "file_extension": ".py",
   "mimetype": "text/x-python",
   "name": "python",
   "nbconvert_exporter": "python",
   "pygments_lexer": "ipython3",
   "version": "3.11.7"
  }
 },
 "nbformat": 4,
 "nbformat_minor": 2
}
